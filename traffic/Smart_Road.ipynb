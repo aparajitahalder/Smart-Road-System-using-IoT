{
 "cells": [
  {
   "cell_type": "code",
   "execution_count": 9,
   "metadata": {},
   "outputs": [
    {
     "name": "stdout",
     "output_type": "stream",
     "text": [
      "<boltiot.bolt.Bolt object at 0x0000021D95FFE5F8>\n"
     ]
    }
   ],
   "source": [
    "import json, time\n",
    "from boltiot import Sms, Bolt\n",
    "import random\n",
    "import cv2\n",
    "\n",
    "API_KEY = 'c855a48b-9092-4374-a91c-bb0745f2f4c0'\n",
    "DEVICE_ID = 'BOLT7421046'\n",
    "SID = 'AC393a58a67e6fd42291a45c0de298df7d' \n",
    "AUTH_TOKEN = '4752733f679570a5cac3df34973cc613' \n",
    "FROM_NUMBER = '(605) 413-1584'\n",
    "TO_NUMBER = '+917742874654'\n",
    "sms = Sms(SID, AUTH_TOKEN, TO_NUMBER, FROM_NUMBER)\n",
    "\n",
    "mybolt = Bolt(API_KEY, DEVICE_ID)\n",
    "print(mybolt)\n",
    "#mybolt.digitalWrite(0,'HIGH')"
   ]
  },
  {
   "cell_type": "code",
   "execution_count": 19,
   "metadata": {},
   "outputs": [
    {
     "ename": "ValueError",
     "evalue": "invalid literal for int() with base 10: 'You have been rate limited. Try after 5 Hours:55 Minutes:46 Seconds'",
     "output_type": "error",
     "traceback": [
      "\u001b[1;31m---------------------------------------------------------------------------\u001b[0m",
      "\u001b[1;31mValueError\u001b[0m                                Traceback (most recent call last)",
      "\u001b[1;32m<ipython-input-19-ab303b3b9d39>\u001b[0m in \u001b[0;36m<module>\u001b[1;34m\u001b[0m\n\u001b[0;32m      7\u001b[0m     \u001b[0mdata\u001b[0m \u001b[1;33m=\u001b[0m \u001b[0mjson\u001b[0m\u001b[1;33m.\u001b[0m\u001b[0mloads\u001b[0m\u001b[1;33m(\u001b[0m\u001b[0mresponse\u001b[0m\u001b[1;33m)\u001b[0m\u001b[1;33m\u001b[0m\u001b[1;33m\u001b[0m\u001b[0m\n\u001b[0;32m      8\u001b[0m    \u001b[1;31m# print(data)\u001b[0m\u001b[1;33m\u001b[0m\u001b[1;33m\u001b[0m\u001b[1;33m\u001b[0m\u001b[0m\n\u001b[1;32m----> 9\u001b[1;33m     \u001b[0mx\u001b[0m\u001b[1;33m=\u001b[0m\u001b[0mint\u001b[0m\u001b[1;33m(\u001b[0m\u001b[0mdata\u001b[0m\u001b[1;33m[\u001b[0m\u001b[1;34m'value'\u001b[0m\u001b[1;33m]\u001b[0m\u001b[1;33m)\u001b[0m\u001b[1;33m\u001b[0m\u001b[1;33m\u001b[0m\u001b[0m\n\u001b[0m\u001b[0;32m     10\u001b[0m     \u001b[1;31m#x=data['value']\u001b[0m\u001b[1;33m\u001b[0m\u001b[1;33m\u001b[0m\u001b[1;33m\u001b[0m\u001b[0m\n\u001b[0;32m     11\u001b[0m     \u001b[0mprint\u001b[0m\u001b[1;33m(\u001b[0m\u001b[0mx\u001b[0m\u001b[1;33m)\u001b[0m\u001b[1;33m\u001b[0m\u001b[1;33m\u001b[0m\u001b[0m\n",
      "\u001b[1;31mValueError\u001b[0m: invalid literal for int() with base 10: 'You have been rate limited. Try after 5 Hours:55 Minutes:46 Seconds'"
     ]
    }
   ],
   "source": [
    "# capture frames from a video  \n",
    "car_cascade = cv2.CascadeClassifier('cars.xml')\n",
    "movement=1\n",
    "while movement<=6:\n",
    "    response = mybolt.analogRead('A0')\n",
    "   # print(response)\n",
    "    data = json.loads(response)\n",
    "   # print(data)\n",
    "    x=int(data['value'])\n",
    "    #x=data['value']\n",
    "    print(x)\n",
    "    if x!='Command timed out':\n",
    "        if int(x)<=6:\n",
    "            mybolt.digitalWrite(1,'HIGH')\n",
    "        else:\n",
    "            mybolt.digitalWrite(1,'LOW')\n",
    "    \n",
    "    c=[1,3,2,5,4,6]\n",
    "    random.shuffle(c)\n",
    "    f=\"car\"+str(c[1])+\".jpg\"\n",
    "    frame=cv2.imread(f)\n",
    "    gray = cv2.cvtColor(frame, cv2.COLOR_BGR2GRAY) \n",
    "    # Detects cars of different sizes in the input image \n",
    "    cars = car_cascade.detectMultiScale(gray, 1.1, 1) \n",
    "    count=0\n",
    "    # To draw a rectangle in each cars \n",
    "    for (x,y,w,h) in cars: \n",
    "        cv2.rectangle(frame,(x,y),(x+w,y+h),(0,0,255),2) \n",
    "        count+=1\n",
    "    # Display frames in a window  \n",
    "    cv2.imshow('TRAFFIC'+str(movement), frame)\n",
    "    print(f,count)\n",
    "    cv2.waitKey(1)\n",
    "    if count>=4:\n",
    "        mybolt.digitalWrite(4,\"HIGH\")\n",
    "    else:\n",
    "        mybolt.digitalWrite(4,\"LOW\")\n",
    "    if count<4:\n",
    "        print(\"LOW TRAFFIC\")\n",
    "    if count>=4 and count<8:\n",
    "        print(\"HIGH TRAFFIC\")\n",
    "    if count>=8:\n",
    "        s=\"ALERT!!!!!!!!! <<<<<<< TRAFFIC JAM >>>>>>\"\n",
    "        print(\"ALERT!!!!!!!!! <<<<<<< TRAFFIC JAM >>>>>>\")\n",
    "        sms = Sms(SID, AUTH_TOKEN, TO_NUMBER, FROM_NUMBER)\n",
    "        sms.send_sms(s) \n",
    "        mybolt.digitalWrite(4,\"HIGH\")\n",
    "    else:\n",
    "        mybolt.digitalWrite(4,\"LOW\")\n",
    "    time.sleep(10)\n",
    "    cv2.destroyAllWindows()\n",
    "    movement+=1\n",
    "cv2.waitKey()\n",
    "cv2.destroyAllWindows()\n",
    "    "
   ]
  },
  {
   "cell_type": "code",
   "execution_count": 82,
   "metadata": {
    "scrolled": true
   },
   "outputs": [
    {
     "ename": "TypeError",
     "evalue": "a bytes-like object is required, not 'str'",
     "output_type": "error",
     "traceback": [
      "\u001b[1;31m---------------------------------------------------------------------------\u001b[0m",
      "\u001b[1;31mTypeError\u001b[0m                                 Traceback (most recent call last)",
      "\u001b[1;32m<ipython-input-82-3f03238f3d7d>\u001b[0m in \u001b[0;36m<module>\u001b[1;34m\u001b[0m\n\u001b[0;32m      7\u001b[0m \u001b[1;32mwith\u001b[0m \u001b[0mopen\u001b[0m\u001b[1;33m(\u001b[0m\u001b[1;34m'filename'\u001b[0m\u001b[1;33m,\u001b[0m \u001b[1;34m'wb'\u001b[0m\u001b[1;33m)\u001b[0m \u001b[1;32mas\u001b[0m \u001b[0mmyfile\u001b[0m\u001b[1;33m:\u001b[0m\u001b[1;33m\u001b[0m\u001b[1;33m\u001b[0m\u001b[0m\n\u001b[0;32m      8\u001b[0m     \u001b[0mwr\u001b[0m \u001b[1;33m=\u001b[0m \u001b[0mcsv\u001b[0m\u001b[1;33m.\u001b[0m\u001b[0mwriter\u001b[0m\u001b[1;33m(\u001b[0m\u001b[0mmyfile\u001b[0m\u001b[1;33m,\u001b[0m \u001b[0mquoting\u001b[0m\u001b[1;33m=\u001b[0m\u001b[0mcsv\u001b[0m\u001b[1;33m.\u001b[0m\u001b[0mQUOTE_ALL\u001b[0m\u001b[1;33m,\u001b[0m\u001b[0mdelimiter\u001b[0m\u001b[1;33m=\u001b[0m\u001b[1;34m'\\n'\u001b[0m\u001b[1;33m)\u001b[0m\u001b[1;33m\u001b[0m\u001b[1;33m\u001b[0m\u001b[0m\n\u001b[1;32m----> 9\u001b[1;33m     \u001b[0mwr\u001b[0m\u001b[1;33m.\u001b[0m\u001b[0mwriterow\u001b[0m\u001b[1;33m(\u001b[0m\u001b[0mmylist\u001b[0m\u001b[1;33m)\u001b[0m\u001b[1;33m\u001b[0m\u001b[1;33m\u001b[0m\u001b[0m\n\u001b[0m\u001b[0;32m     10\u001b[0m \u001b[1;33m\u001b[0m\u001b[0m\n\u001b[0;32m     11\u001b[0m \u001b[0mdata\u001b[0m \u001b[1;33m=\u001b[0m \u001b[0mpd\u001b[0m\u001b[1;33m.\u001b[0m\u001b[0mread_csv\u001b[0m\u001b[1;33m(\u001b[0m\u001b[1;34m'filename.csv'\u001b[0m\u001b[1;33m)\u001b[0m\u001b[1;33m\u001b[0m\u001b[1;33m\u001b[0m\u001b[0m\n",
      "\u001b[1;31mTypeError\u001b[0m: a bytes-like object is required, not 'str'"
     ]
    }
   ],
   "source": []
  },
  {
   "cell_type": "code",
   "execution_count": null,
   "metadata": {},
   "outputs": [],
   "source": []
  }
 ],
 "metadata": {
  "kernelspec": {
   "display_name": "Python 3",
   "language": "python",
   "name": "python3"
  },
  "language_info": {
   "codemirror_mode": {
    "name": "ipython",
    "version": 3
   },
   "file_extension": ".py",
   "mimetype": "text/x-python",
   "name": "python",
   "nbconvert_exporter": "python",
   "pygments_lexer": "ipython3",
   "version": "3.6.8"
  }
 },
 "nbformat": 4,
 "nbformat_minor": 2
}
